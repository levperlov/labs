{
 "cells": [
  {
   "cell_type": "markdown",
   "id": "e5967e7d",
   "metadata": {},
   "source": [
    "lab2_2sem\n",
    "Разработать классы «точка» и «шар».\n",
    "Члены-данные сделать закрытой частью в каждом классе.\n",
    "Для каждого класса разработать: конструктор с параметрами для инициализации, методы ввода/вывода.\n",
    "Разработать 2 функции определения принадлежности точки шару: метод класса и функцию с двумя параметрами (точка и шар)."
   ]
  },
  {
   "cell_type": "code",
   "execution_count": null,
   "id": "f8b88ee4",
   "metadata": {},
   "outputs": [],
   "source": [
    "class Sphere:\n",
    "    def __init__(self, radius, dot):\n",
    "        self.__radius=radius\n",
    "        self.__dot=dot\n",
    "    def getd(self):\n",
    "         return self.__dot\n",
    "    def getr(self):\n",
    "         return self.__radius\n",
    "\n",
    "class Dot:\n",
    "    def __init__(self, x,y,z):\n",
    "        self.__x=x\n",
    "        self.__y=y\n",
    "        self.__z=z\n",
    "    def getx(self):\n",
    "         return self.__x\n",
    "    def gety(self):\n",
    "         return self.__y\n",
    "    def getz(self):\n",
    "         return self.__z\n",
    "    def isinsphere(self, sphere:Sphere):\n",
    "        return (self.getx()-sphere.getd().getx())**2+(self.gety()-sphere.getd().gety())**2+(self.getz()-sphere.getd().getz())**2-sphere._Sphere__radius<10**-6\n",
    "\n",
    "\n",
    "def isinsphere(sphere:Sphere, dot:Dot):\n",
    "        return (dot.getx()-sphere.getd().getx())**2+(dot.gety()-sphere.getd().gety())**2+(dot.getz()-sphere.getd().getz())**2-sphere._Sphere__radius<10**-6\n",
    "\n",
    "dot=Dot(*map(int, input().split()))\n",
    "sp=Sphere(int(input()), Dot(*map(int, input().split())))\n",
    "print(dot.isinsphere(sp), isinsphere(sp, dot))"
   ]
  },
  {
   "cell_type": "markdown",
   "id": "97be01e3",
   "metadata": {},
   "source": [
    "Lab3_2sem Разработать класс «2-мерный вектор», конструктор для инициализации, метод ввода, метод вывода __str__, перегруженную операцию < (меньше) сравнения длин дух векторов. Создать собственное исключение при проверке равенства одной из координат нулю при инициализации и установке. В установке добавить обработку этого исключения: вывести сообщение и вызвать метод ввода еще раз. В главной функции организовать тестирование всех возможностей разработанного класса."
   ]
  },
  {
   "cell_type": "code",
   "execution_count": null,
   "id": "65b5419f",
   "metadata": {},
   "outputs": [],
   "source": [
    "class DemensionIsZerroExpectoin(Exception):\n",
    "    def __init__(self, demention):\n",
    "        super().__init__(\"demention \"+((str)(demention))+\" is zerro\")\n",
    "\n",
    "class V2D:\n",
    "    def set_d1(self, d1):\n",
    "        if d1 == 0:\n",
    "            raise DemensionIsZerroExpectoin(1)\n",
    "        self.__d1=d1\n",
    "    def set_d2(self, d2):\n",
    "        if d2 == 0:\n",
    "            raise DemensionIsZerroExpectoin(2)\n",
    "        self.__d2=d2\n",
    "        \n",
    "    def __init__(self,d1=1,d2=1):\n",
    "        self.set_d1(d1)\n",
    "        self.set_d2(d2)\n",
    "    def input(self):\n",
    "        d1,d2=map(int,input().split())\n",
    "        self.set_d1(d1)\n",
    "        self.set_d2(d2)\n",
    "    def __str__(self):\n",
    "        return \"1 dimension: \"+((str)(self.__d1))+\"\\n2 dimension: \"+((str)(self.__d2))+\"\\n\"\n",
    "    def __float__(self):\n",
    "        return (self.__d1**2+self.__d1**2)**0.5\n",
    "    def __lt__(self, v):\n",
    "        return ((float)(self))<((float)(v))\n",
    "while(True):\n",
    "    try:\n",
    "        v1=V2D(5,6)\n",
    "        v2=V2D()\n",
    "        v2.input()\n",
    "        print(\"less\" if v1<v2 else \"more\")\n",
    "        print(v1, v2, sep=\"\\n_____________________\\n\")\n",
    "        break\n",
    "    except DemensionIsZerroExpectoin as e:\n",
    "        print(e)\n",
    "    "
   ]
  }
 ],
 "metadata": {
  "language_info": {
   "name": "python"
  }
 },
 "nbformat": 4,
 "nbformat_minor": 5
}
