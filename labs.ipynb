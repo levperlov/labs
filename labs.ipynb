{
  "cells": [
    {
      "cell_type": "markdown",
      "id": "e5967e7d",
      "metadata": {
        "id": "e5967e7d"
      },
      "source": [
        "lab2_2sem\n",
        "Разработать классы «точка» и «шар».\n",
        "Члены-данные сделать закрытой частью в каждом классе.\n",
        "Для каждого класса разработать: конструктор с параметрами для инициализации, методы ввода/вывода.\n",
        "Разработать 2 функции определения принадлежности точки шару: метод класса и функцию с двумя параметрами (точка и шар)."
      ]
    },
    {
      "cell_type": "code",
      "execution_count": null,
      "id": "f8b88ee4",
      "metadata": {
        "id": "f8b88ee4"
      },
      "outputs": [],
      "source": [
        "class Sphere:\n",
        "    def __init__(self, radius, dot):\n",
        "        self.__radius=radius\n",
        "        self.__dot=dot\n",
        "    def getd(self):\n",
        "         return self.__dot\n",
        "    def getr(self):\n",
        "         return self.__radius\n",
        "\n",
        "class Dot:\n",
        "    def __init__(self, x,y,z):\n",
        "        self.__x=x\n",
        "        self.__y=y\n",
        "        self.__z=z\n",
        "    def getx(self):\n",
        "         return self.__x\n",
        "    def gety(self):\n",
        "         return self.__y\n",
        "    def getz(self):\n",
        "         return self.__z\n",
        "    def isinsphere(self, sphere:Sphere):\n",
        "        return (self.getx()-sphere.getd().getx())**2+(self.gety()-sphere.getd().gety())**2+(self.getz()-sphere.getd().getz())**2-sphere._Sphere__radius<10**-6\n",
        "\n",
        "\n",
        "def isinsphere(sphere:Sphere, dot:Dot):\n",
        "        return (dot.getx()-sphere.getd().getx())**2+(dot.gety()-sphere.getd().gety())**2+(dot.getz()-sphere.getd().getz())**2-sphere._Sphere__radius<10**-6\n",
        "\n",
        "dot=Dot(*map(int, input().split()))\n",
        "sp=Sphere(int(input()), Dot(*map(int, input().split())))\n",
        "print(dot.isinsphere(sp), isinsphere(sp, dot))"
      ]
    },
    {
      "cell_type": "markdown",
      "id": "97be01e3",
      "metadata": {
        "id": "97be01e3"
      },
      "source": [
        "Lab3_2sem Разработать класс «2-мерный вектор», конструктор для инициализации, метод ввода, метод вывода __str__, перегруженную операцию < (меньше) сравнения длин дух векторов. Создать собственное исключение при проверке равенства одной из координат нулю при инициализации и установке. В установке добавить обработку этого исключения: вывести сообщение и вызвать метод ввода еще раз. В главной функции организовать тестирование всех возможностей разработанного класса."
      ]
    },
    {
      "cell_type": "code",
      "execution_count": null,
      "id": "65b5419f",
      "metadata": {
        "id": "65b5419f"
      },
      "outputs": [],
      "source": [
        "class DemensionIsZerroExpectoin(Exception):\n",
        "    def __init__(self, demention):\n",
        "        super().__init__(\"demention \"+((str)(demention))+\" is zerro\")\n",
        "\n",
        "class V2D:\n",
        "    def set_d1(self, d1):\n",
        "        if d1 == 0:\n",
        "            raise DemensionIsZerroExpectoin(1)\n",
        "        self.__d1=d1\n",
        "    def set_d2(self, d2):\n",
        "        if d2 == 0:\n",
        "            raise DemensionIsZerroExpectoin(2)\n",
        "        self.__d2=d2\n",
        "\n",
        "    def __init__(self,d1=1,d2=1):\n",
        "        self.set_d1(d1)\n",
        "        self.set_d2(d2)\n",
        "    def input(self):\n",
        "        d1,d2=map(int,input().split())\n",
        "        self.set_d1(d1)\n",
        "        self.set_d2(d2)\n",
        "    def __str__(self):\n",
        "        return \"1 dimension: \"+((str)(self.__d1))+\"\\n2 dimension: \"+((str)(self.__d2))+\"\\n\"\n",
        "    def __float__(self):\n",
        "        return (self.__d1**2+self.__d1**2)**0.5\n",
        "    def __lt__(self, v):\n",
        "        return ((float)(self))<((float)(v))\n",
        "while(True):\n",
        "    try:\n",
        "        v1=V2D(5,6)\n",
        "        v2=V2D()\n",
        "        v2.input()\n",
        "        print(\"less\" if v1<v2 else \"more\")\n",
        "        print(v1, v2, sep=\"\\n_____________________\\n\")\n",
        "        break\n",
        "    except DemensionIsZerroExpectoin as e:\n",
        "        print(e)\n",
        ""
      ]
    },
    {
      "cell_type": "markdown",
      "source": [
        "lab3_2sem Разработайте две программы:\n",
        "\n",
        "·        Сформировать массив значений по заданной функции и записать полученные данные во внешний файл.\n",
        "\n",
        "·        Считать данные из полученного файла, построить по полученным данным график. На графике: выделить линию нуля по оси ох, подписать названия графика и осей, настроить сетку.\n",
        "\n",
        "![image (7).png](data:image/png;base64,iVBORw0KGgoAAAANSUhEUgAAAJAAAAAmCAYAAAAr1RLQAAAFbklEQVR4nO2bsWsbPxTHv/7RtSQXj10CcoZCoNCel5IsGSLSqdu57dhCsOnclisdOnRQ94IDHgN3YxaD3YIXH4FCCGdKoct56CzTP+H9hl912Lk7W+eznTg/feAGS7rnJ/kr6ekpKRERwWCYk3+u2wHDemMEZCiEEZChEEZAhkLcuW4H1pWtrS38+fPnut1YKWnnLbMCZeD7fmbdYDAAYwxE9L960jAr0F+CIMD5+Xn8+fLyErVaLbVtt9vF4eHhqly70ZgV6C/n5+fo9Xrx59evX2e27fV6ODo6WoVbNx4joDE2NzcBABsbG7h//35qm9FohG63i729vVW6dmNZewENh0O8f/8e1WoVpVIJpVIJtVoNg8Egl53Hjx+DMQYAaLVaePHiRWq779+/w3GcqbZ830elUsFwOMzlwzIJggCNRgOVSgWlUglbW1toNBoYjUZxm2q1is+fP0+UzYTWHABk2zZFUURERP1+nyzLIsuySEqpbcfzvLh9v9+nrKFxXZeazWZqnZSSbNsmx3FyffeyUf3hnMfjJISIyxRSShJCEGOMwjDUsn0rBNRutyfK6vU6AaB+v69th3NOnHMSQpBt2+S6bmq7aYPLOSfHcfSdnwMhxMSProMS0FVRM8ZSJ4oSkc4kWPstjIjw5MmTiTLLsgAAd+/e1bYjhMDBwQEA4OPHj/j06VOijdqSHjx4kKjzfR/dbhdfvnzR/s5Vsbe3ByJCuVyeKK9UKqnt37x5AwD48OHDbOO5pEz/LXOccwJA9Xo9VdF5Z8gikVKSZVlLWQk8z0v0WcEYy6xrt9vEGCPLsuJVUUpJjuMQgHhb0WGeFSgLxhgxxlLrms1m6qp1ldwCcl2XwjAk13UTnQ/DkABkxgjLREpJnucRY4xc111KDOI4DnmelyhX/U6rk1LGwmKMxcKu1+uJrVeHRQlIbWtpPhNN79M4c8dAaQ6oAHbaj6fe03104phxm8sUUFbf1Gyd5avrumRZFnmeR0KIuXxYhICklFNXTAWAzFgwblPEEQATA9FsNucemEUgpYx/TNu2FyqiMAzJtu3UOnWimUW73SYA2turChV0njyi4pxrjY+O3UJBtG3bE9nbVquFly9fFjFZiHK5jOPjY7iui4uLC3z79i23jdFolJpDWsT1xb179wAAT58+1Wrf6XQS91FCCHDOE+WdTkfLpsr9dDqdRFA9D4UExBiLk06+7+PVq1cznQqCIE746TxBEOT2S10z/P79W/ud4XCIRqOBnZ0dvH37NlG/iOuLk5MTWJaFHz9+FLIzL77vw/d9tFqthYgHKCighw8f4uLiAqPRCGdnZzg+Pp75jjpS6j7TrgyUGK9mfH/+/AkA2N3d1e7Lr1+/8Pz5c7x79w7dbndCuLOuLzY2NmJ/svB9H9vb26jVavj69au2X4tiMBjg2bNnOD09nUhDNBqNqX4/evRoumHtjTMFFbw6jqOduVwk6vvTMtFZ8cosoihK7P3tdntq3DLrxBKGYfy+itHCMKRms5kr2Uk0fxDNOU8EzVEUTaQWrvo8rU+KQgKSUiYC6VWiju7jwSZjjIQQhQJolclWopx2faFIO9Wo8eGcx/6oE5BlWXONW5FMdNaTNvmXlgcaJ4qiuWf6TUatQuP5m1nJPs/zcicFbzI6x3yiAgJSGenbMmBXGb9Py8rWXkVdpK47Qgjty+hcAoqiKBYN5/xa4p5VoVYh27a1ZiLRzb2Nz8NSb+PVMn3bxaNQsVXeKwfP8yYC+3XBtu3c8WOJyPxrcxZBEGB/fx9SyoXlTW4bRkCGQqz93wMZrhcjIEMhjIAMhTACMhTCCMhQCCMgQyGMgAyFMAIyFMIIyFCIfwEwQpmvl2DB/wAAAABJRU5ErkJggg==)\n",
        ""
      ],
      "metadata": {
        "id": "wBUZtReIw4pN"
      },
      "id": "wBUZtReIw4pN"
    },
    {
      "cell_type": "code",
      "source": [
        "from numpy import *\n",
        "from matplotlib.pyplot import *\n",
        "with open(\"1.txt\",\"w\") as f:\n",
        "    [print((str(x)+\" \"+str(3*((x+2)**(1/5)))), file=f) for x in linspace(0, 100, 1000)]\n",
        "arr=loadtxt(\"1.txt\")\n",
        "x=[]\n",
        "y=[]\n",
        "for a in arr:\n",
        "    x.append(a[0])\n",
        "    y.append(a[1])\n",
        "xlabel(\"x\")\n",
        "ylabel(\"3*((x+2)**(1/5))\")\n",
        "grid()\n",
        "axhline()\n",
        "title(\"graph\")\n",
        "plot(x,y)\n",
        "show()"
      ],
      "metadata": {
        "id": "LY8vUO5kwxvi",
        "outputId": "31fa008b-e627-4d8e-fc01-20bcbcd338c0",
        "colab": {
          "base_uri": "https://localhost:8080/",
          "height": 472
        }
      },
      "id": "LY8vUO5kwxvi",
      "execution_count": 1,
      "outputs": [
        {
          "output_type": "display_data",
          "data": {
            "text/plain": [
              "<Figure size 640x480 with 1 Axes>"
            ],
            "image/png": "[encoded data removed]"
          },
          "metadata": {}
        }
      ]
    }
  ],
  "metadata": {
    "language_info": {
      "name": "python"
    },
    "colab": {
      "provenance": []
    },
    "kernelspec": {
      "name": "python3",
      "display_name": "Python 3"
    }
  },
  "nbformat": 4,
  "nbformat_minor": 5
}