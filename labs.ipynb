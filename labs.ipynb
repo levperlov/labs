{
 "cells": [
  {
   "cell_type": "markdown",
   "id": "e5967e7d",
   "metadata": {},
   "source": [
    "lab2_2sem\n",
    "Разработать классы «точка» и «шар».\n",
    "Члены-данные сделать закрытой частью в каждом классе.\n",
    "Для каждого класса разработать: конструктор с параметрами для инициализации, методы ввода/вывода.\n",
    "Разработать 2 функции определения принадлежности точки шару: метод класса и функцию с двумя параметрами (точка и шар)."
   ]
  },
  {
   "cell_type": "code",
   "execution_count": null,
   "id": "f8b88ee4",
   "metadata": {},
   "outputs": [],
   "source": [
    "class Sphere:\n",
    "    def __init__(self, radius, dot):\n",
    "        self.__radius=radius\n",
    "        self.__dot=dot\n",
    "    def getd(self):\n",
    "         return self.__dot\n",
    "    def getr(self):\n",
    "         return self.__radius\n",
    "\n",
    "class Dot:\n",
    "    def __init__(self, x,y,z):\n",
    "        self.__x=x\n",
    "        self.__y=y\n",
    "        self.__z=z\n",
    "    def getx(self):\n",
    "         return self.__x\n",
    "    def gety(self):\n",
    "         return self.__y\n",
    "    def getz(self):\n",
    "         return self.__z\n",
    "    def isinsphere(self, sphere:Sphere):\n",
    "        return (self.getx()-sphere.getd().getx())**2+(self.gety()-sphere.getd().gety())**2+(self.getz()-sphere.getd().getz())**2-sphere._Sphere__radius<10**-6\n",
    "\n",
    "\n",
    "def isinsphere(sphere:Sphere, dot:Dot):\n",
    "        return (dot.getx()-sphere.getd().getx())**2+(dot.gety()-sphere.getd().gety())**2+(dot.getz()-sphere.getd().getz())**2-sphere._Sphere__radius<10**-6\n",
    "\n",
    "dot=Dot(*map(int, input().split()))\n",
    "sp=Sphere(int(input()), Dot(*map(int, input().split())))\n",
    "print(dot.isinsphere(sp), isinsphere(sp, dot))"
   ]
  }
 ],
 "metadata": {
  "language_info": {
   "name": "python"
  }
 },
 "nbformat": 4,
 "nbformat_minor": 5
}
